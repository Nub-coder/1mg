{
 "cells": [
  {
   "cell_type": "code",
   "execution_count": 1,
   "id": "b2019b62",
   "metadata": {},
   "outputs": [],
   "source": [
    "import numpy as np\n",
    "import pandas as pd\n",
    "import matplotlib.pyplot as plt\n",
    "%matplotlib inline\n",
    "import seaborn as sns"
   ]
  },
  {
   "cell_type": "code",
   "execution_count": 2,
   "id": "16c8927c",
   "metadata": {},
   "outputs": [],
   "source": [
    "df=pd.read_csv('training_data.csv')"
   ]
  },
  {
   "cell_type": "code",
   "execution_count": 3,
   "id": "f27965a6",
   "metadata": {},
   "outputs": [],
   "source": [
    "df = df.set_index(df['patient_id'])\n",
    "df = df.drop(columns = 'patient_id')"
   ]
  },
  {
   "cell_type": "code",
   "execution_count": 4,
   "id": "19995d76",
   "metadata": {},
   "outputs": [
    {
     "name": "stdout",
     "output_type": "stream",
     "text": [
      "standard_lab_parameter_name  : 5\n",
      "parameter_value  : 1410\n",
      "unit  : 30\n",
      "created_at  : 5802\n",
      "reference_high  : 65\n",
      "reference_low  : 49\n",
      "age_group  : 4\n",
      "gender  : 4\n"
     ]
    }
   ],
   "source": [
    "for columns in df:\n",
    "    print(columns, \" :\",len(df[columns].unique()))"
   ]
  },
  {
   "cell_type": "code",
   "execution_count": 5,
   "id": "0790feb1",
   "metadata": {},
   "outputs": [
    {
     "data": {
      "text/plain": [
       "['male', 'female', 'Female', 'mAle']"
      ]
     },
     "execution_count": 5,
     "metadata": {},
     "output_type": "execute_result"
    }
   ],
   "source": [
    "df['gender'].unique().tolist()"
   ]
  },
  {
   "cell_type": "code",
   "execution_count": 6,
   "id": "dea8af68",
   "metadata": {},
   "outputs": [],
   "source": [
    "df = df.replace('Female','female')\n",
    "df = df.replace('mAle','male')"
   ]
  },
  {
   "cell_type": "code",
   "execution_count": 7,
   "id": "21ebb884",
   "metadata": {},
   "outputs": [],
   "source": [
    "chloride = df[df['standard_lab_parameter_name']=='Chloride']"
   ]
  },
  {
   "cell_type": "code",
   "execution_count": 8,
   "id": "bde7e631",
   "metadata": {},
   "outputs": [],
   "source": [
    "cl=chloride.groupby(['age_group'])"
   ]
  },
  {
   "cell_type": "code",
   "execution_count": 9,
   "id": "9916566f",
   "metadata": {},
   "outputs": [
    {
     "name": "stdout",
     "output_type": "stream",
     "text": [
      "adult  :  925\n",
      "child  :  11\n",
      "old  :  246\n",
      "teen  :  14\n"
     ]
    }
   ],
   "source": [
    "x=[]\n",
    "y=[]\n",
    "for name,group in cl:\n",
    "    x.append(name)\n",
    "    y.append(len(group))\n",
    "    print(name,\" : \",len(group))"
   ]
  },
  {
   "cell_type": "code",
   "execution_count": 10,
   "id": "c3f759fd",
   "metadata": {},
   "outputs": [
    {
     "data": {
      "image/png": "[encoded data removed]",
      "text/plain": [
       "<Figure size 432x288 with 1 Axes>"
      ]
     },
     "metadata": {
      "needs_background": "light"
     },
     "output_type": "display_data"
    }
   ],
   "source": [
    "plt.bar(x,y,color='red')\n",
    "plt.show()"
   ]
  },
  {
   "cell_type": "code",
   "execution_count": 11,
   "id": "0669cc38",
   "metadata": {},
   "outputs": [
    {
     "data": {
      "image/png": "[encoded data removed]",
      "text/plain": [
       "<Figure size 432x288 with 1 Axes>"
      ]
     },
     "metadata": {
      "needs_background": "light"
     },
     "output_type": "display_data"
    }
   ],
   "source": [
    "plt.bar(x,cl['parameter_value'].agg(np.mean),color = 'red')\n",
    "plt.show()"
   ]
  },
  {
   "cell_type": "code",
   "execution_count": 12,
   "id": "34b94cd2",
   "metadata": {},
   "outputs": [
    {
     "data": {
      "image/png": "[encoded data removed]",
      "text/plain": [
       "<Figure size 432x288 with 1 Axes>"
      ]
     },
     "metadata": {
      "needs_background": "light"
     },
     "output_type": "display_data"
    }
   ],
   "source": [
    "plt.bar(x,cl['parameter_value'].agg(np.std),color = 'red')\n",
    "plt.show()"
   ]
  },
  {
   "cell_type": "code",
   "execution_count": 13,
   "id": "6e2c7b3a",
   "metadata": {},
   "outputs": [],
   "source": [
    "cld=chloride.groupby(['age_group','gender'])"
   ]
  },
  {
   "cell_type": "code",
   "execution_count": 14,
   "id": "aa53298c",
   "metadata": {},
   "outputs": [
    {
     "name": "stdout",
     "output_type": "stream",
     "text": [
      "('adult', 'female')            standard_lab_parameter_name  parameter_value    unit  \\\n",
      "patient_id                                                        \n",
      "50                            Chloride           104.30  mmol/l   \n",
      "89                            Chloride           103.00  mmol/l   \n",
      "144                           Chloride           105.70  mmol/l   \n",
      "186                           Chloride           103.21  mmol/l   \n",
      "217                           Chloride           103.30  mmol/l   \n",
      "...                                ...              ...     ...   \n",
      "9354                          Chloride           104.80  mmol/l   \n",
      "9444                          Chloride             2.10   pg/ml   \n",
      "9681                          Chloride           100.00  mmol/l   \n",
      "9801                          Chloride           100.00  mmol/l   \n",
      "9927                          Chloride           104.00  mmol/l   \n",
      "\n",
      "                                  created_at  reference_high  reference_low  \\\n",
      "patient_id                                                                    \n",
      "50          2019-11-20 05:02:57.930269+00:00           107.0           98.0   \n",
      "89          2019-09-15 02:37:20.301144+00:00           107.0           98.0   \n",
      "144         2019-10-09 14:13:47.606722+00:00           107.0           98.0   \n",
      "186         2019-10-19 09:28:24.595063+00:00           109.0          101.0   \n",
      "217                  2019-11-23 09:36:20.023           107.0           98.0   \n",
      "...                                      ...             ...            ...   \n",
      "9354        2019-12-24 04:57:42.127963+00:00           107.0           98.0   \n",
      "9444                 2019-03-25 08:53:36.827             4.4            2.1   \n",
      "9681        2019-11-27 09:37:11.247383+00:00           108.0           98.0   \n",
      "9801        2019-11-27 09:37:11.249975+00:00           108.0           98.0   \n",
      "9927        2019-11-29 13:22:07.352832+00:00           107.0           98.0   \n",
      "\n",
      "           age_group  gender  \n",
      "patient_id                    \n",
      "50             adult  female  \n",
      "89             adult  female  \n",
      "144            adult  female  \n",
      "186            adult  female  \n",
      "217            adult  female  \n",
      "...              ...     ...  \n",
      "9354           adult  female  \n",
      "9444           adult  female  \n",
      "9681           adult  female  \n",
      "9801           adult  female  \n",
      "9927           adult  female  \n",
      "\n",
      "[99 rows x 8 columns]\n",
      "('adult', 'male')            standard_lab_parameter_name  parameter_value    unit  \\\n",
      "patient_id                                                        \n",
      "7                             Chloride            105.3  mmol/l   \n",
      "12                            Chloride            107.0  mmol/l   \n",
      "30                            Chloride             98.0  mmol/l   \n",
      "71                            Chloride            104.0  mmol/l   \n",
      "82                            Chloride            101.0  mmol/l   \n",
      "...                                ...              ...     ...   \n",
      "9964                          Chloride            100.0  mmol/l   \n",
      "9973                          Chloride            103.0  mmol/l   \n",
      "9981                          Chloride            102.0  mmol/l   \n",
      "9984                          Chloride            101.0  mmol/l   \n",
      "9989                          Chloride            103.8  mmol/l   \n",
      "\n",
      "                                  created_at  reference_high  reference_low  \\\n",
      "patient_id                                                                    \n",
      "7           2019-06-30 13:45:08.198299+00:00           107.0           98.0   \n",
      "12          2019-07-22 10:08:28.843087+00:00           108.0           98.0   \n",
      "30          2019-02-21 17:58:54.644089+00:00           107.0           98.0   \n",
      "71          2019-11-20 14:01:32.894720+00:00           107.0           98.0   \n",
      "82          2019-11-21 15:49:59.880040+00:00           107.0           98.0   \n",
      "...                                      ...             ...            ...   \n",
      "9964        2019-09-09 05:28:23.806159+00:00           108.0           98.0   \n",
      "9973        2019-09-25 10:29:21.076645+00:00           107.0           98.0   \n",
      "9981        2019-11-20 13:16:24.581529+00:00           107.0           98.0   \n",
      "9984        2019-09-18 08:41:08.230925+00:00           107.0           98.0   \n",
      "9989        2019-09-07 02:01:41.948413+00:00           107.0           98.0   \n",
      "\n",
      "           age_group gender  \n",
      "patient_id                   \n",
      "7              adult   male  \n",
      "12             adult   male  \n",
      "30             adult   male  \n",
      "71             adult   male  \n",
      "82             adult   male  \n",
      "...              ...    ...  \n",
      "9964           adult   male  \n",
      "9973           adult   male  \n",
      "9981           adult   male  \n",
      "9984           adult   male  \n",
      "9989           adult   male  \n",
      "\n",
      "[826 rows x 8 columns]\n",
      "('child', 'female')            standard_lab_parameter_name  parameter_value    unit  \\\n",
      "patient_id                                                        \n",
      "5265                          Chloride            104.0  mmol/l   \n",
      "5456                          Chloride            104.0  mmol/l   \n",
      "6951                          Chloride            100.0  mmol/l   \n",
      "9052                          Chloride            101.0  mmol/l   \n",
      "9150                          Chloride            101.0  mmol/l   \n",
      "\n",
      "                                  created_at  reference_high  reference_low  \\\n",
      "patient_id                                                                    \n",
      "5265        2019-12-07 15:04:48.901311+00:00           107.0           98.0   \n",
      "5456                 2019-12-07 20:34:48.901           107.0           98.0   \n",
      "6951                 2019-07-01 19:00:17.238           107.0           98.0   \n",
      "9052        2019-09-12 04:21:24.744394+00:00           109.0          101.0   \n",
      "9150        2019-09-12 04:21:24.743558+00:00           109.0          101.0   \n",
      "\n",
      "           age_group  gender  \n",
      "patient_id                    \n",
      "5265           child  female  \n",
      "5456           child  female  \n",
      "6951           child  female  \n",
      "9052           child  female  \n",
      "9150           child  female  \n",
      "('child', 'male')            standard_lab_parameter_name  parameter_value    unit  \\\n",
      "patient_id                                                        \n",
      "1736                          Chloride           101.00  mmol/l   \n",
      "3094                          Chloride            98.00  mmol/l   \n",
      "3124                          Chloride           107.00  mmol/l   \n",
      "3682                          Chloride           105.00  mmol/l   \n",
      "4882                          Chloride             0.67  μiu/ml   \n",
      "6329                          Chloride           104.90  mmol/l   \n",
      "\n",
      "                                  created_at  reference_high  reference_low  \\\n",
      "patient_id                                                                    \n",
      "1736                 2019-08-24 18:17:10.359          107.00          98.00   \n",
      "3094        2019-10-05 18:26:13.191931+00:00          107.00          98.00   \n",
      "3124        2019-10-11 14:35:39.419847+00:00          108.00          98.00   \n",
      "3682        2019-10-11 16:50:42.736811+00:00          107.00          98.00   \n",
      "4882        2019-11-21 02:49:25.504853+00:00            4.16           0.67   \n",
      "6329        2019-09-13 06:43:54.507890+00:00          107.00          98.00   \n",
      "\n",
      "           age_group gender  \n",
      "patient_id                   \n",
      "1736           child   male  \n",
      "3094           child   male  \n",
      "3124           child   male  \n",
      "3682           child   male  \n",
      "4882           child   male  \n",
      "6329           child   male  \n",
      "('old', 'female')            standard_lab_parameter_name  parameter_value    unit  \\\n",
      "patient_id                                                        \n",
      "797                           Chloride           102.60  mmol/l   \n",
      "1204                          Chloride           107.00  mmol/l   \n",
      "1371                          Chloride           104.20   meq/l   \n",
      "2208                          Chloride            99.10  mmol/l   \n",
      "2291                          Chloride           102.00  mmol/l   \n",
      "3116                          Chloride           106.90  mmol/l   \n",
      "3327                          Chloride           102.90  mmol/l   \n",
      "3586                          Chloride           102.00  mmol/l   \n",
      "3893                          Chloride           111.40  mmol/l   \n",
      "3895                          Chloride           111.40  mmol/l   \n",
      "4216                          Chloride           103.00  mmol/l   \n",
      "5626                          Chloride           103.00  mmol/l   \n",
      "5774                          Chloride           101.00  mmol/l   \n",
      "5775                          Chloride           101.00  mmol/l   \n",
      "6168                          Chloride           101.20  mmol/l   \n",
      "6308                          Chloride           104.80  mmol/l   \n",
      "6527                          Chloride           105.00  mmol/l   \n",
      "6699                          Chloride           104.00  mmol/l   \n",
      "7196                          Chloride           105.00  mmol/l   \n",
      "7275                          Chloride           102.20  mmol/l   \n",
      "7309                          Chloride            98.45  mmol/l   \n",
      "7876                          Chloride           102.00  mmol/l   \n",
      "8327                          Chloride           105.00  mmol/l   \n",
      "8418                          Chloride           103.00  mmol/l   \n",
      "8901                          Chloride            98.40  mmol/l   \n",
      "9366                          Chloride           108.00   meq/l   \n",
      "9396                          Chloride           106.30  mmol/l   \n",
      "\n",
      "                                  created_at  reference_high  reference_low  \\\n",
      "patient_id                                                                    \n",
      "797         2019-12-04 09:41:54.844038+00:00           107.0           98.0   \n",
      "1204                 2019-05-13 10:39:17.008           107.0           98.0   \n",
      "1371                 2019-12-29 20:21:49.817           109.0          101.0   \n",
      "2208        2019-11-23 14:01:02.368782+00:00           107.0           98.0   \n",
      "2291        2019-11-17 04:12:33.411922+00:00           104.0           96.0   \n",
      "3116        2019-10-29 07:34:18.351360+00:00           107.0           98.0   \n",
      "3327        2019-12-13 18:45:03.266757+00:00           107.0           98.0   \n",
      "3586        2019-11-17 04:12:33.414589+00:00           104.0           96.0   \n",
      "3893                 2019-06-11 21:10:15.194           107.0           98.0   \n",
      "3895                 2019-06-11 21:10:15.196           107.0           98.0   \n",
      "4216        2019-05-30 04:43:41.178371+00:00           107.0           98.0   \n",
      "5626                 2019-09-29 13:18:21.941           107.0           98.0   \n",
      "5774                 2019-05-27 07:17:57.074           107.0           98.0   \n",
      "5775                 2019-05-27 07:17:57.078           107.0           98.0   \n",
      "6168        2019-09-21 07:30:48.240483+00:00           109.0          101.0   \n",
      "6308        2019-09-21 08:28:56.338607+00:00           109.0          101.0   \n",
      "6527                 2019-01-23 12:01:31.577           107.0           98.0   \n",
      "6699                 2019-12-27 08:51:54.397           107.0           98.0   \n",
      "7196        2019-11-21 04:38:42.176506+00:00           107.0           98.0   \n",
      "7275        2019-12-28 13:05:13.092965+00:00           109.0          101.0   \n",
      "7309        2019-10-24 05:35:13.235554+00:00           109.0          101.0   \n",
      "7876        2019-12-25 11:01:20.242463+00:00           107.0           98.0   \n",
      "8327                 2019-07-14 08:25:15.401           107.0           98.0   \n",
      "8418                 2019-11-15 20:31:22.268           107.0           98.0   \n",
      "8901        2019-11-25 15:11:48.628692+00:00           107.0           98.0   \n",
      "9366                 2019-07-04 15:12:34.114           109.0          101.0   \n",
      "9396        2019-12-22 02:21:35.705335+00:00           107.0           98.0   \n",
      "\n",
      "           age_group  gender  \n",
      "patient_id                    \n",
      "797              old  female  \n",
      "1204             old  female  \n",
      "1371             old  female  \n",
      "2208             old  female  \n",
      "2291             old  female  \n",
      "3116             old  female  \n",
      "3327             old  female  \n",
      "3586             old  female  \n",
      "3893             old  female  \n",
      "3895             old  female  \n",
      "4216             old  female  \n",
      "5626             old  female  \n",
      "5774             old  female  \n",
      "5775             old  female  \n",
      "6168             old  female  \n",
      "6308             old  female  \n",
      "6527             old  female  \n",
      "6699             old  female  \n",
      "7196             old  female  \n",
      "7275             old  female  \n",
      "7309             old  female  \n",
      "7876             old  female  \n",
      "8327             old  female  \n",
      "8418             old  female  \n",
      "8901             old  female  \n",
      "9366             old  female  \n",
      "9396             old  female  \n",
      "('old', 'male')            standard_lab_parameter_name  parameter_value    unit  \\\n",
      "patient_id                                                        \n",
      "23                            Chloride            106.5  mmol/l   \n",
      "46                            Chloride            101.9  mmol/l   \n",
      "93                            Chloride            104.5  mmol/l   \n",
      "164                           Chloride           9890.0  mmol/l   \n",
      "171                           Chloride            100.0  mmol/l   \n",
      "...                                ...              ...     ...   \n",
      "9873                          Chloride            104.0   meq/l   \n",
      "9877                          Chloride            100.0  mmol/l   \n",
      "9898                          Chloride            102.7  mmol/l   \n",
      "9905                          Chloride             98.8  mmol/l   \n",
      "9960                          Chloride            104.9  mmol/l   \n",
      "\n",
      "                                  created_at  reference_high  reference_low  \\\n",
      "patient_id                                                                    \n",
      "23          2019-01-26 05:37:04.917295+00:00           109.0           99.0   \n",
      "46          2019-06-05 09:28:52.365281+00:00           109.0          101.0   \n",
      "93          2019-08-27 07:44:08.355024+00:00           107.0           98.0   \n",
      "164         2019-10-18 08:21:50.709787+00:00           108.0           98.0   \n",
      "171         2019-10-14 12:16:11.120338+00:00           107.0           98.0   \n",
      "...                                      ...             ...            ...   \n",
      "9873        2019-09-14 15:34:05.483383+00:00           109.0          101.0   \n",
      "9877        2019-11-28 17:03:32.770539+00:00           107.0           98.0   \n",
      "9898        2019-09-07 16:24:40.672031+00:00           107.0           98.0   \n",
      "9905        2019-09-12 02:00:07.921807+00:00           107.0           98.0   \n",
      "9960        2019-11-21 07:54:17.036018+00:00           109.0          101.0   \n",
      "\n",
      "           age_group gender  \n",
      "patient_id                   \n",
      "23               old   male  \n",
      "46               old   male  \n",
      "93               old   male  \n",
      "164              old   male  \n",
      "171              old   male  \n",
      "...              ...    ...  \n",
      "9873             old   male  \n",
      "9877             old   male  \n",
      "9898             old   male  \n",
      "9905             old   male  \n",
      "9960             old   male  \n",
      "\n",
      "[219 rows x 8 columns]\n",
      "('teen', 'male')            standard_lab_parameter_name  parameter_value    unit  \\\n",
      "patient_id                                                        \n",
      "204                           Chloride           104.00  mmol/l   \n",
      "1572                          Chloride           103.40  mmol/l   \n",
      "2020                          Chloride           104.10  mmol/l   \n",
      "2875                          Chloride            95.00  mmol/l   \n",
      "2876                          Chloride            95.00  mmol/l   \n",
      "2877                          Chloride            95.00  mmol/l   \n",
      "2878                          Chloride            95.00  mmol/l   \n",
      "5068                          Chloride           104.00  mmol/l   \n",
      "6804                          Chloride            99.00  mmol/l   \n",
      "7768                          Chloride           104.00  mmol/l   \n",
      "7990                          Chloride           106.00  mmol/l   \n",
      "9371                          Chloride             0.67  μiu/ml   \n",
      "9381                          Chloride           101.50  mmol/l   \n",
      "9957                          Chloride           104.00  mmol/l   \n",
      "\n",
      "                                  created_at  reference_high  reference_low  \\\n",
      "patient_id                                                                    \n",
      "204                  2019-02-19 12:05:38.957          107.00          98.00   \n",
      "1572        2019-11-18 12:57:26.294168+00:00          109.00         101.00   \n",
      "2020                 2019-06-13 12:45:16.751          108.00          98.00   \n",
      "2875                 2019-07-01 18:48:44.783          107.00          98.00   \n",
      "2876                 2019-07-01 18:48:44.782          107.00          98.00   \n",
      "2877                 2019-07-01 18:48:44.779          107.00          98.00   \n",
      "2878                 2019-07-01 18:48:44.780          107.00          98.00   \n",
      "5068        2019-07-26 04:38:17.401258+00:00          110.00          94.00   \n",
      "6804        2019-11-17 16:29:26.877906+00:00          107.00          98.00   \n",
      "7768        2019-12-08 13:26:49.665376+00:00          107.00          98.00   \n",
      "7990        2019-12-19 15:28:23.497977+00:00          107.00          98.00   \n",
      "9371        2019-12-28 17:20:29.929642+00:00            4.16           0.67   \n",
      "9381        2019-12-20 12:33:33.309603+00:00          107.00          98.00   \n",
      "9957        2019-11-23 07:12:41.075201+00:00          107.00          98.00   \n",
      "\n",
      "           age_group gender  \n",
      "patient_id                   \n",
      "204             teen   male  \n",
      "1572            teen   male  \n",
      "2020            teen   male  \n",
      "2875            teen   male  \n",
      "2876            teen   male  \n",
      "2877            teen   male  \n",
      "2878            teen   male  \n",
      "5068            teen   male  \n",
      "6804            teen   male  \n",
      "7768            teen   male  \n",
      "7990            teen   male  \n",
      "9371            teen   male  \n",
      "9381            teen   male  \n",
      "9957            teen   male  \n"
     ]
    }
   ],
   "source": [
    "for name,group in cld:\n",
    "    print(name,group)"
   ]
  },
  {
   "cell_type": "code",
   "execution_count": 15,
   "id": "a7407ae0",
   "metadata": {},
   "outputs": [
    {
     "name": "stdout",
     "output_type": "stream",
     "text": [
      "age_group  gender\n",
      "adult      female    101.378586\n",
      "           male      101.756404\n",
      "child      female    102.000000\n",
      "           male       86.095000\n",
      "old        female    103.735185\n",
      "           male      146.770091\n",
      "teen       male       93.619286\n",
      "Name: parameter_value, dtype: float64\n"
     ]
    }
   ],
   "source": [
    "print(cld['parameter_value'].agg(np.mean))"
   ]
  },
  {
   "cell_type": "code",
   "execution_count": 16,
   "id": "1915e331",
   "metadata": {},
   "outputs": [
    {
     "name": "stdout",
     "output_type": "stream",
     "text": [
      "age_group  gender\n",
      "adult      female     14.701806\n",
      "           male       11.734750\n",
      "child      female      1.870829\n",
      "           male       41.974670\n",
      "old        female      3.301684\n",
      "           male      661.453964\n",
      "teen       male       27.072665\n",
      "Name: parameter_value, dtype: float64\n"
     ]
    }
   ],
   "source": [
    "print(cld['parameter_value'].agg(np.std))"
   ]
  },
  {
   "cell_type": "code",
   "execution_count": 17,
   "id": "41ebd2c1",
   "metadata": {},
   "outputs": [
    {
     "name": "stdout",
     "output_type": "stream",
     "text": [
      "age_group  gender\n",
      "adult      female    104.00\n",
      "           male      103.00\n",
      "child      female    101.00\n",
      "           male      102.95\n",
      "old        female    103.00\n",
      "           male      103.00\n",
      "teen       male      102.45\n",
      "Name: parameter_value, dtype: float64\n"
     ]
    }
   ],
   "source": [
    "print(cld['parameter_value'].agg(np.median))"
   ]
  }
 ],
 "metadata": {
  "kernelspec": {
   "display_name": "Python 3",
   "language": "python",
   "name": "python3"
  },
  "language_info": {
   "codemirror_mode": {
    "name": "ipython",
    "version": 3
   },
   "file_extension": ".py",
   "mimetype": "text/x-python",
   "name": "python",
   "nbconvert_exporter": "python",
   "pygments_lexer": "ipython3",
   "version": "3.8.10"
  }
 },
 "nbformat": 4,
 "nbformat_minor": 5
}
