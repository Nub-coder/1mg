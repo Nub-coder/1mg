{
 "cells": [
  {
   "cell_type": "code",
   "execution_count": 6,
   "id": "b2019b62",
   "metadata": {},
   "outputs": [],
   "source": [
    "import numpy as np\n",
    "import pandas as pd\n",
    "import matplotlib.pyplot as plt\n",
    "%matplotlib inline\n",
    "import seaborn as sns"
   ]
  },
  {
   "cell_type": "code",
   "execution_count": 7,
   "id": "16c8927c",
   "metadata": {},
   "outputs": [],
   "source": [
    "df=pd.read_csv('test_data.csv')"
   ]
  },
  {
   "cell_type": "code",
   "execution_count": 8,
   "id": "f27965a6",
   "metadata": {},
   "outputs": [],
   "source": [
    "df = df.set_index(df['patient_id'])\n",
    "df = df.drop(columns = 'patient_id')"
   ]
  },
  {
   "cell_type": "code",
   "execution_count": 9,
   "id": "19995d76",
   "metadata": {},
   "outputs": [
    {
     "name": "stdout",
     "output_type": "stream",
     "text": [
      "Unnamed: 0  : 10000\n",
      "standard_lab_parameter_name  : 5\n",
      "parameter_value  : 1162\n",
      "unit  : 22\n",
      "created_at  : 4056\n",
      "reference_high  : 64\n",
      "reference_low  : 49\n",
      "age_group  : 4\n"
     ]
    }
   ],
   "source": [
    "for columns in df:\n",
    "    print(columns, \" :\",len(df[columns].unique()))"
   ]
  },
  {
   "cell_type": "code",
   "execution_count": 10,
   "id": "0790feb1",
   "metadata": {},
   "outputs": [],
   "source": [
    "# df['gender'].unique().tolist()"
   ]
  },
  {
   "cell_type": "code",
   "execution_count": 11,
   "id": "dea8af68",
   "metadata": {},
   "outputs": [],
   "source": [
    "df = df.replace('Female','female')\n",
    "df = df.replace('mAle','male')"
   ]
  },
  {
   "cell_type": "code",
   "execution_count": 12,
   "id": "21ebb884",
   "metadata": {},
   "outputs": [],
   "source": [
    "chloride = df[df['standard_lab_parameter_name']=='Chloride']"
   ]
  },
  {
   "cell_type": "code",
   "execution_count": 13,
   "id": "bde7e631",
   "metadata": {},
   "outputs": [],
   "source": [
    "cl=chloride.groupby(['age_group'])"
   ]
  },
  {
   "cell_type": "code",
   "execution_count": 14,
   "id": "9916566f",
   "metadata": {},
   "outputs": [
    {
     "name": "stdout",
     "output_type": "stream",
     "text": [
      "adult  :  883\n",
      "child  :  12\n",
      "old  :  327\n",
      "teen  :  9\n"
     ]
    }
   ],
   "source": [
    "x=[]\n",
    "y=[]\n",
    "for name,group in cl:\n",
    "    x.append(name)\n",
    "    y.append(len(group))\n",
    "    print(name,\" : \",len(group))"
   ]
  },
  {
   "cell_type": "code",
   "execution_count": 15,
   "id": "c3f759fd",
   "metadata": {},
   "outputs": [
    {
     "data": {
      "image/png": "[encoded data removed]",
      "text/plain": [
       "<Figure size 432x288 with 1 Axes>"
      ]
     },
     "metadata": {
      "needs_background": "light"
     },
     "output_type": "display_data"
    }
   ],
   "source": [
    "plt.bar(x,y,color='red')\n",
    "plt.show()"
   ]
  },
  {
   "cell_type": "code",
   "execution_count": 16,
   "id": "0669cc38",
   "metadata": {},
   "outputs": [
    {
     "data": {
      "image/png": "[encoded data removed]",
      "text/plain": [
       "<Figure size 432x288 with 1 Axes>"
      ]
     },
     "metadata": {
      "needs_background": "light"
     },
     "output_type": "display_data"
    }
   ],
   "source": [
    "plt.bar(x,cl['parameter_value'].agg(np.mean),color = 'red')\n",
    "plt.show()"
   ]
  },
  {
   "cell_type": "code",
   "execution_count": 17,
   "id": "34b94cd2",
   "metadata": {},
   "outputs": [
    {
     "data": {
      "image/png": "[encoded data removed]",
      "text/plain": [
       "<Figure size 432x288 with 1 Axes>"
      ]
     },
     "metadata": {
      "needs_background": "light"
     },
     "output_type": "display_data"
    }
   ],
   "source": [
    "plt.bar(x,cl['parameter_value'].agg(np.std),color = 'red')\n",
    "plt.show()"
   ]
  },
  {
   "cell_type": "code",
   "execution_count": 18,
   "id": "6e2c7b3a",
   "metadata": {},
   "outputs": [],
   "source": [
    "# cld=chloride.groupby(['age_group','gender'])"
   ]
  },
  {
   "cell_type": "code",
   "execution_count": 19,
   "id": "aa53298c",
   "metadata": {},
   "outputs": [],
   "source": [
    "# for name,group in cld:\n",
    "#     print(name,group)"
   ]
  },
  {
   "cell_type": "code",
   "execution_count": 20,
   "id": "a7407ae0",
   "metadata": {},
   "outputs": [],
   "source": [
    "# print(cld['parameter_value'].agg(np.mean))"
   ]
  },
  {
   "cell_type": "code",
   "execution_count": 21,
   "id": "1915e331",
   "metadata": {},
   "outputs": [],
   "source": [
    "# print(cld['parameter_value'].agg(np.std))"
   ]
  },
  {
   "cell_type": "code",
   "execution_count": 22,
   "id": "41ebd2c1",
   "metadata": {},
   "outputs": [],
   "source": [
    "# print(cld['parameter_value'].agg(np.median))"
   ]
  }
 ],
 "metadata": {
  "kernelspec": {
   "display_name": "Python 3",
   "language": "python",
   "name": "python3"
  },
  "language_info": {
   "codemirror_mode": {
    "name": "ipython",
    "version": 3
   },
   "file_extension": ".py",
   "mimetype": "text/x-python",
   "name": "python",
   "nbconvert_exporter": "python",
   "pygments_lexer": "ipython3",
   "version": "3.8.10"
  }
 },
 "nbformat": 4,
 "nbformat_minor": 5
}
